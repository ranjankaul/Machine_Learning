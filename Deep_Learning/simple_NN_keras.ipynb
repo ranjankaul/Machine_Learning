{
 "cells": [
  {
   "cell_type": "code",
   "execution_count": 9,
   "metadata": {},
   "outputs": [],
   "source": [
    "# Importing the libraries\n",
    "import numpy as np\n",
    "import matplotlib.pyplot as plt\n",
    "import pandas as pd\n",
    "\n",
    "# Importing the dataset\n",
    "dataset = pd.read_csv('Churn_Modelling.csv')\n",
    "x = dataset.iloc[:,3:13].values\n",
    "y = dataset.iloc[:,-1].values\n"
   ]
  },
  {
   "cell_type": "code",
   "execution_count": 10,
   "metadata": {},
   "outputs": [
    {
     "name": "stderr",
     "output_type": "stream",
     "text": [
      "/home/calsoft/anaconda3/lib/python3.7/site-packages/sklearn/preprocessing/_encoders.py:368: FutureWarning: The handling of integer data will change in version 0.22. Currently, the categories are determined based on the range [0, max(values)], while in the future they will be determined based on the unique values.\n",
      "If you want the future behaviour and silence this warning, you can specify \"categories='auto'\".\n",
      "In case you used a LabelEncoder before this OneHotEncoder to convert the categories to integers, then you can now use the OneHotEncoder directly.\n",
      "  warnings.warn(msg, FutureWarning)\n",
      "/home/calsoft/anaconda3/lib/python3.7/site-packages/sklearn/preprocessing/_encoders.py:390: DeprecationWarning: The 'categorical_features' keyword is deprecated in version 0.20 and will be removed in 0.22. You can use the ColumnTransformer instead.\n",
      "  \"use the ColumnTransformer instead.\", DeprecationWarning)\n"
     ]
    }
   ],
   "source": [
    "from sklearn.preprocessing import LabelEncoder,OneHotEncoder\n",
    "labelenc_1 = LabelEncoder()\n",
    "labelenc_2 = LabelEncoder()\n",
    "\n",
    "x[:,1] = labelenc_1.fit_transform(x[:,1])\n",
    "x[:,2] = labelenc_2.fit_transform(x[:,2])\n",
    "onehot = OneHotEncoder(categorical_features = [1])\n",
    "x = onehot.fit_transform(x).toarray()\n",
    "x = x[:,1:]"
   ]
  },
  {
   "cell_type": "code",
   "execution_count": 11,
   "metadata": {},
   "outputs": [],
   "source": [
    "# Splitting the dataset into the Training set and Test set\n",
    "from sklearn.model_selection import train_test_split\n",
    "x_train, x_test, y_train, y_test = train_test_split(x, y, test_size = 0.20, random_state = 0)"
   ]
  },
  {
   "cell_type": "code",
   "execution_count": 12,
   "metadata": {},
   "outputs": [],
   "source": [
    "# Feature Scaling\n",
    "from sklearn.preprocessing import StandardScaler\n",
    "sc = StandardScaler()\n",
    "x_train = sc.fit_transform(x_train)\n",
    "x_test = sc.transform(x_test)"
   ]
  },
  {
   "cell_type": "code",
   "execution_count": 37,
   "metadata": {
    "scrolled": false
   },
   "outputs": [
    {
     "name": "stderr",
     "output_type": "stream",
     "text": [
      "/home/calsoft/anaconda3/lib/python3.7/site-packages/ipykernel_launcher.py:7: UserWarning: Update your `Dense` call to the Keras 2 API: `Dense(input_dim=11, activation=\"relu\", units=6, kernel_initializer=\"uniform\")`\n",
      "  import sys\n",
      "/home/calsoft/anaconda3/lib/python3.7/site-packages/ipykernel_launcher.py:8: UserWarning: Update your `Dense` call to the Keras 2 API: `Dense(activation=\"relu\", units=6, kernel_initializer=\"uniform\")`\n",
      "  \n",
      "/home/calsoft/anaconda3/lib/python3.7/site-packages/ipykernel_launcher.py:9: UserWarning: Update your `Dense` call to the Keras 2 API: `Dense(activation=\"sigmoid\", units=1, kernel_initializer=\"uniform\")`\n",
      "  if __name__ == '__main__':\n",
      "/home/calsoft/anaconda3/lib/python3.7/site-packages/ipykernel_launcher.py:14: UserWarning: The `nb_epoch` argument in `fit` has been renamed `epochs`.\n",
      "  \n"
     ]
    },
    {
     "name": "stdout",
     "output_type": "stream",
     "text": [
      "Epoch 1/100\n",
      "8000/8000 [==============================] - 2s 275us/step - loss: 0.4629 - acc: 0.7958\n",
      "Epoch 2/100\n",
      "8000/8000 [==============================] - 2s 236us/step - loss: 0.4223 - acc: 0.7964\n",
      "Epoch 3/100\n",
      "8000/8000 [==============================] - 2s 229us/step - loss: 0.4134 - acc: 0.8089\n",
      "Epoch 4/100\n",
      "8000/8000 [==============================] - 2s 233us/step - loss: 0.3965 - acc: 0.8279\n",
      "Epoch 5/100\n",
      "8000/8000 [==============================] - 2s 230us/step - loss: 0.3763 - acc: 0.8493\n",
      "Epoch 6/100\n",
      "8000/8000 [==============================] - 2s 233us/step - loss: 0.3640 - acc: 0.8568\n",
      "Epoch 7/100\n",
      "8000/8000 [==============================] - 2s 234us/step - loss: 0.3580 - acc: 0.8581\n",
      "Epoch 8/100\n",
      "8000/8000 [==============================] - 2s 253us/step - loss: 0.3556 - acc: 0.8586\n",
      "Epoch 9/100\n",
      "8000/8000 [==============================] - 2s 272us/step - loss: 0.3540 - acc: 0.8594\n",
      "Epoch 10/100\n",
      "8000/8000 [==============================] - 2s 233us/step - loss: 0.3527 - acc: 0.8565\n",
      "Epoch 11/100\n",
      "8000/8000 [==============================] - 2s 231us/step - loss: 0.3518 - acc: 0.8599\n",
      "Epoch 12/100\n",
      "8000/8000 [==============================] - 2s 239us/step - loss: 0.3508 - acc: 0.8590\n",
      "Epoch 13/100\n",
      "8000/8000 [==============================] - 2s 262us/step - loss: 0.3495 - acc: 0.8598\n",
      "Epoch 14/100\n",
      "8000/8000 [==============================] - 2s 233us/step - loss: 0.3489 - acc: 0.8615\n",
      "Epoch 15/100\n",
      "8000/8000 [==============================] - 2s 257us/step - loss: 0.3483 - acc: 0.8613\n",
      "Epoch 16/100\n",
      "8000/8000 [==============================] - 2s 246us/step - loss: 0.3479 - acc: 0.8583\n",
      "Epoch 17/100\n",
      "8000/8000 [==============================] - 2s 249us/step - loss: 0.3476 - acc: 0.8588\n",
      "Epoch 18/100\n",
      "8000/8000 [==============================] - 2s 242us/step - loss: 0.3470 - acc: 0.8594\n",
      "Epoch 19/100\n",
      "8000/8000 [==============================] - 2s 240us/step - loss: 0.3469 - acc: 0.8596\n",
      "Epoch 20/100\n",
      "8000/8000 [==============================] - 2s 242us/step - loss: 0.3469 - acc: 0.8590\n",
      "Epoch 21/100\n",
      "8000/8000 [==============================] - 2s 244us/step - loss: 0.3457 - acc: 0.8604\n",
      "Epoch 22/100\n",
      "8000/8000 [==============================] - 2s 250us/step - loss: 0.3461 - acc: 0.8604\n",
      "Epoch 23/100\n",
      "8000/8000 [==============================] - 2s 245us/step - loss: 0.3448 - acc: 0.8606\n",
      "Epoch 24/100\n",
      "8000/8000 [==============================] - 2s 235us/step - loss: 0.3455 - acc: 0.8606\n",
      "Epoch 25/100\n",
      "8000/8000 [==============================] - 2s 234us/step - loss: 0.3450 - acc: 0.8596\n",
      "Epoch 26/100\n",
      "8000/8000 [==============================] - 2s 235us/step - loss: 0.3448 - acc: 0.8588\n",
      "Epoch 27/100\n",
      "8000/8000 [==============================] - 2s 234us/step - loss: 0.3447 - acc: 0.8621\n",
      "Epoch 28/100\n",
      "8000/8000 [==============================] - 2s 235us/step - loss: 0.3443 - acc: 0.8608\n",
      "Epoch 29/100\n",
      "8000/8000 [==============================] - 2s 237us/step - loss: 0.3444 - acc: 0.8588\n",
      "Epoch 30/100\n",
      "8000/8000 [==============================] - 2s 264us/step - loss: 0.3441 - acc: 0.8603\n",
      "Epoch 31/100\n",
      "8000/8000 [==============================] - 2s 256us/step - loss: 0.3437 - acc: 0.8598\n",
      "Epoch 32/100\n",
      "8000/8000 [==============================] - 2s 245us/step - loss: 0.3439 - acc: 0.8623\n",
      "Epoch 33/100\n",
      "8000/8000 [==============================] - 2s 250us/step - loss: 0.3439 - acc: 0.8606\n",
      "Epoch 34/100\n",
      "8000/8000 [==============================] - 2s 245us/step - loss: 0.3435 - acc: 0.8626\n",
      "Epoch 35/100\n",
      "8000/8000 [==============================] - 2s 240us/step - loss: 0.3434 - acc: 0.8615\n",
      "Epoch 36/100\n",
      "8000/8000 [==============================] - 2s 250us/step - loss: 0.3429 - acc: 0.8616\n",
      "Epoch 37/100\n",
      "8000/8000 [==============================] - 2s 248us/step - loss: 0.3432 - acc: 0.8620\n",
      "Epoch 38/100\n",
      "8000/8000 [==============================] - 2s 247us/step - loss: 0.3429 - acc: 0.8608\n",
      "Epoch 39/100\n",
      "8000/8000 [==============================] - 2s 251us/step - loss: 0.3429 - acc: 0.8606\n",
      "Epoch 40/100\n",
      "8000/8000 [==============================] - 2s 237us/step - loss: 0.3422 - acc: 0.8634\n",
      "Epoch 41/100\n",
      "8000/8000 [==============================] - 2s 242us/step - loss: 0.3428 - acc: 0.8606\n",
      "Epoch 42/100\n",
      "8000/8000 [==============================] - 2s 236us/step - loss: 0.3425 - acc: 0.8611\n",
      "Epoch 43/100\n",
      "8000/8000 [==============================] - 2s 241us/step - loss: 0.3421 - acc: 0.8608\n",
      "Epoch 44/100\n",
      "8000/8000 [==============================] - 2s 239us/step - loss: 0.3418 - acc: 0.8595\n",
      "Epoch 45/100\n",
      "8000/8000 [==============================] - 2s 249us/step - loss: 0.3420 - acc: 0.8606\n",
      "Epoch 46/100\n",
      "8000/8000 [==============================] - 2s 238us/step - loss: 0.3423 - acc: 0.8621\n",
      "Epoch 47/100\n",
      "8000/8000 [==============================] - 2s 244us/step - loss: 0.3420 - acc: 0.8618\n",
      "Epoch 48/100\n",
      "8000/8000 [==============================] - 2s 243us/step - loss: 0.3424 - acc: 0.8611\n",
      "Epoch 49/100\n",
      "8000/8000 [==============================] - 2s 251us/step - loss: 0.3423 - acc: 0.8624\n",
      "Epoch 50/100\n",
      "8000/8000 [==============================] - 2s 258us/step - loss: 0.3421 - acc: 0.8620\n",
      "Epoch 51/100\n",
      "8000/8000 [==============================] - 2s 248us/step - loss: 0.3420 - acc: 0.8616\n",
      "Epoch 52/100\n",
      "8000/8000 [==============================] - 2s 260us/step - loss: 0.3416 - acc: 0.8620\n",
      "Epoch 53/100\n",
      "8000/8000 [==============================] - 2s 255us/step - loss: 0.3414 - acc: 0.8621\n",
      "Epoch 54/100\n",
      "8000/8000 [==============================] - 2s 254us/step - loss: 0.3411 - acc: 0.8620\n",
      "Epoch 55/100\n",
      "8000/8000 [==============================] - 2s 255us/step - loss: 0.3417 - acc: 0.8620\n",
      "Epoch 56/100\n",
      "8000/8000 [==============================] - 2s 262us/step - loss: 0.3410 - acc: 0.8626\n",
      "Epoch 57/100\n",
      "8000/8000 [==============================] - 2s 248us/step - loss: 0.3407 - acc: 0.8614\n",
      "Epoch 58/100\n",
      "8000/8000 [==============================] - 2s 263us/step - loss: 0.3419 - acc: 0.8635\n",
      "Epoch 59/100\n",
      "8000/8000 [==============================] - 2s 256us/step - loss: 0.3412 - acc: 0.8598\n",
      "Epoch 60/100\n",
      "8000/8000 [==============================] - 2s 253us/step - loss: 0.3415 - acc: 0.8603\n",
      "Epoch 61/100\n",
      "8000/8000 [==============================] - 2s 263us/step - loss: 0.3406 - acc: 0.8615\n",
      "Epoch 62/100\n",
      "8000/8000 [==============================] - 2s 252us/step - loss: 0.3409 - acc: 0.8620\n",
      "Epoch 63/100\n",
      "8000/8000 [==============================] - 2s 265us/step - loss: 0.3411 - acc: 0.8629\n",
      "Epoch 64/100\n",
      "8000/8000 [==============================] - 2s 261us/step - loss: 0.3408 - acc: 0.8611\n",
      "Epoch 65/100\n",
      "8000/8000 [==============================] - 2s 254us/step - loss: 0.3407 - acc: 0.8631\n",
      "Epoch 66/100\n",
      "8000/8000 [==============================] - 2s 262us/step - loss: 0.3412 - acc: 0.8609\n",
      "Epoch 67/100\n",
      "8000/8000 [==============================] - 2s 259us/step - loss: 0.3417 - acc: 0.8604\n",
      "Epoch 68/100\n",
      "8000/8000 [==============================] - 2s 268us/step - loss: 0.3407 - acc: 0.8620\n",
      "Epoch 69/100\n",
      "8000/8000 [==============================] - 2s 272us/step - loss: 0.3414 - acc: 0.8624\n",
      "Epoch 70/100\n",
      "8000/8000 [==============================] - 2s 255us/step - loss: 0.3406 - acc: 0.8626\n",
      "Epoch 71/100\n",
      "8000/8000 [==============================] - 2s 260us/step - loss: 0.3407 - acc: 0.8616\n",
      "Epoch 72/100\n",
      "8000/8000 [==============================] - 2s 265us/step - loss: 0.3406 - acc: 0.8623\n",
      "Epoch 73/100\n",
      "8000/8000 [==============================] - 2s 264us/step - loss: 0.3409 - acc: 0.8610\n",
      "Epoch 74/100\n",
      "8000/8000 [==============================] - 2s 263us/step - loss: 0.3407 - acc: 0.8610\n",
      "Epoch 75/100\n",
      "8000/8000 [==============================] - 2s 265us/step - loss: 0.3412 - acc: 0.8614\n",
      "Epoch 76/100\n",
      "8000/8000 [==============================] - 2s 263us/step - loss: 0.3407 - acc: 0.8618\n",
      "Epoch 77/100\n",
      "8000/8000 [==============================] - 2s 260us/step - loss: 0.3407 - acc: 0.8600\n",
      "Epoch 78/100\n",
      "8000/8000 [==============================] - 2s 267us/step - loss: 0.3408 - acc: 0.8629\n",
      "Epoch 79/100\n",
      "8000/8000 [==============================] - 2s 281us/step - loss: 0.3403 - acc: 0.8616\n",
      "Epoch 80/100\n",
      "8000/8000 [==============================] - 2s 261us/step - loss: 0.3408 - acc: 0.8610\n",
      "Epoch 81/100\n",
      "8000/8000 [==============================] - 2s 265us/step - loss: 0.3404 - acc: 0.8620\n",
      "Epoch 82/100\n",
      "8000/8000 [==============================] - 2s 260us/step - loss: 0.3404 - acc: 0.8613\n",
      "Epoch 83/100\n",
      "8000/8000 [==============================] - 2s 262us/step - loss: 0.3405 - acc: 0.8588\n",
      "Epoch 84/100\n",
      "8000/8000 [==============================] - 2s 271us/step - loss: 0.3405 - acc: 0.8606\n",
      "Epoch 85/100\n",
      "8000/8000 [==============================] - 2s 259us/step - loss: 0.3403 - acc: 0.8615\n",
      "Epoch 86/100\n",
      "8000/8000 [==============================] - 2s 269us/step - loss: 0.3408 - acc: 0.8623\n",
      "Epoch 87/100\n",
      "8000/8000 [==============================] - 2s 280us/step - loss: 0.3402 - acc: 0.8628\n",
      "Epoch 88/100\n",
      "8000/8000 [==============================] - 2s 264us/step - loss: 0.3403 - acc: 0.8610\n",
      "Epoch 89/100\n",
      "8000/8000 [==============================] - 2s 260us/step - loss: 0.3397 - acc: 0.8628\n",
      "Epoch 90/100\n",
      "8000/8000 [==============================] - 2s 266us/step - loss: 0.3405 - acc: 0.8616\n",
      "Epoch 91/100\n",
      "8000/8000 [==============================] - 2s 278us/step - loss: 0.3404 - acc: 0.8620\n",
      "Epoch 92/100\n",
      "8000/8000 [==============================] - 2s 296us/step - loss: 0.3406 - acc: 0.8603\n",
      "Epoch 93/100\n",
      "8000/8000 [==============================] - 2s 262us/step - loss: 0.3410 - acc: 0.8610\n",
      "Epoch 94/100\n",
      "8000/8000 [==============================] - 2s 265us/step - loss: 0.3407 - acc: 0.8624\n",
      "Epoch 95/100\n",
      "8000/8000 [==============================] - 2s 261us/step - loss: 0.3401 - acc: 0.8608\n",
      "Epoch 96/100\n",
      "8000/8000 [==============================] - 2s 267us/step - loss: 0.3399 - acc: 0.8625\n",
      "Epoch 97/100\n",
      "8000/8000 [==============================] - 2s 275us/step - loss: 0.3404 - acc: 0.8601\n",
      "Epoch 98/100\n",
      "8000/8000 [==============================] - 2s 262us/step - loss: 0.3407 - acc: 0.8608\n",
      "Epoch 99/100\n",
      "8000/8000 [==============================] - 2s 269us/step - loss: 0.3396 - acc: 0.8594\n",
      "Epoch 100/100\n",
      "8000/8000 [==============================] - 2s 268us/step - loss: 0.3398 - acc: 0.8616\n"
     ]
    },
    {
     "data": {
      "text/plain": [
       "<keras.callbacks.History at 0x7fbf3e092fd0>"
      ]
     },
     "execution_count": 37,
     "metadata": {},
     "output_type": "execute_result"
    }
   ],
   "source": [
    "# Fitting classifier to the Training set\n",
    "# Create your classifier here\n",
    "from keras.models import Sequential\n",
    "from keras.layers import Dense\n",
    "\n",
    "classifier =  Sequential()   ## initialize the \n",
    "classifier.add(Dense(input_dim = 11,output_dim=6,init = \"uniform\",activation='relu'))  # Dense : input layer,i/p \n",
    "classifier.add(Dense(output_dim=6,init = \"uniform\",activation='relu'))\n",
    "classifier.add(Dense(output_dim=1,init = \"uniform\",activation='sigmoid'))\n",
    "classifier.compile(optimizer = 'adam' ,loss = 'binary_crossentropy',metrics=['accuracy'] )\n",
    "classifier.fit(x_train,y_train,nb_epoch = 100,batch_size=5)"
   ]
  },
  {
   "cell_type": "code",
   "execution_count": 48,
   "metadata": {},
   "outputs": [
    {
     "name": "stdout",
     "output_type": "stream",
     "text": [
      "[[False]]\n"
     ]
    },
    {
     "name": "stderr",
     "output_type": "stream",
     "text": [
      "/home/calsoft/anaconda3/lib/python3.7/site-packages/sklearn/utils/validation.py:595: DataConversionWarning: Data with input dtype int64 was converted to float64 by StandardScaler.\n",
      "  warnings.warn(msg, DataConversionWarning)\n"
     ]
    }
   ],
   "source": [
    "# Predicting the Test set results\n",
    "y_pred = classifier.predict(sc.transform(np.array([[0,0,600,1,40,3,60000,2,1,1,50000]])))\n",
    "print(y_pred > 0.5)"
   ]
  },
  {
   "cell_type": "code",
   "execution_count": 39,
   "metadata": {},
   "outputs": [
    {
     "name": "stdout",
     "output_type": "stream",
     "text": [
      "[[1527   68]\n",
      " [ 207  198]]\n"
     ]
    }
   ],
   "source": [
    "y_pred = (y_pred > 0.5)\n",
    "from sklearn.metrics import *\n",
    "cm = confusion_matrix(y_test,y_pred)\n",
    "print(cm)"
   ]
  },
  {
   "cell_type": "code",
   "execution_count": 40,
   "metadata": {},
   "outputs": [
    {
     "name": "stdout",
     "output_type": "stream",
     "text": [
      "0.8625\n"
     ]
    }
   ],
   "source": [
    "#from sklearn. import metrics as m\n",
    "acc = accuracy_score(y_test, y_pred)\n",
    "print(acc)"
   ]
  },
  {
   "cell_type": "code",
   "execution_count": null,
   "metadata": {},
   "outputs": [],
   "source": []
  }
 ],
 "metadata": {
  "kernelspec": {
   "display_name": "Python 3",
   "language": "python",
   "name": "python3"
  },
  "language_info": {
   "codemirror_mode": {
    "name": "ipython",
    "version": 3
   },
   "file_extension": ".py",
   "mimetype": "text/x-python",
   "name": "python",
   "nbconvert_exporter": "python",
   "pygments_lexer": "ipython3",
   "version": "3.7.1"
  }
 },
 "nbformat": 4,
 "nbformat_minor": 2
}
